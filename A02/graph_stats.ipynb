{
 "cells": [
  {
   "cell_type": "code",
   "execution_count": 16,
   "metadata": {},
   "outputs": [],
   "source": [
    "%%capture\n",
    "%pip install seaborn"
   ]
  },
  {
   "cell_type": "code",
   "execution_count": 17,
   "metadata": {},
   "outputs": [],
   "source": [
    "import re\n",
    "import sys\n",
    "import seaborn as sns\n",
    "import pandas as pd\n",
    "import numpy as np\n",
    "import matplotlib.pyplot as plt\n",
    "\n",
    "sns.set_style(\"darkgrid\")\n",
    "\n",
    "class Chain():\n",
    "    def __init__(self, length, words) -> None:\n",
    "        self.length = length\n",
    "        self.words = words\n",
    "        self.size = len(words)\n",
    "\n",
    "class DictGraph():\n",
    "    def __init__(self, length, nodes, connected, biggest) -> None:\n",
    "        self.length = length\n",
    "        self.nodes = nodes\n",
    "        self.connected = connected\n",
    "        self.biggest = biggest"
   ]
  },
  {
   "cell_type": "code",
   "execution_count": 40,
   "outputs": [
    {
     "name": "stdout",
     "output_type": "stream",
     "text": [
      "1 6 1 1\n",
      "2 86 27 3\n",
      "3 507 66 50\n",
      "4 1998 338 149\n",
      "5 6491 1144 460\n"
     ]
    }
   ],
   "source": [
    "chains = []\n",
    "with open(\"longest.txt\") as f:\n",
    "    lines = f.readlines()\n",
    "    for idx, line in enumerate(lines):\n",
    "        if line.startswith(\"Longest\"):\n",
    "            length = int(re.search(r\"\\d+\", line)[0])\n",
    "            chain = Chain(length, lines[idx+2].strip().split(\" -> \"))\n",
    "            chains.append(chain)\n",
    "stats = []\n",
    "with open(\"graph.txt\") as f:\n",
    "    lines = f.readlines()\n",
    "    for idx in range(len(lines) - 3):\n",
    "        if lines[idx].startswith(\"Graph\"):\n",
    "            length = int(re.search(r\"\\d+\", lines[idx])[0])\n",
    "            nodes = int(lines[idx+1].split(\": \")[1])\n",
    "            connected = int(lines[idx+2].split(\": \")[1])\n",
    "            biggest = int(lines[idx+3].split(\": \")[1])\n",
    "            graph = DictGraph(length, nodes, connected, biggest)\n",
    "            stats.append(graph)\n"
   ],
   "metadata": {
    "collapsed": false
   }
  },
  {
   "cell_type": "code",
   "execution_count": 38,
   "metadata": {},
   "outputs": [],
   "source": [
    "df = pd.DataFrame([{\"length\": chain.length, \"words\": chain.words, \"size\": chain.size} for chain in chains])\n",
    "stats_df = pd.DataFrame([{\"length\": graph.length, \"nodes\": graph.nodes, \"connected\": graph.connected, \"biggest\": graph.biggest} for graph in stats])"
   ]
  },
  {
   "cell_type": "code",
   "execution_count": 39,
   "metadata": {},
   "outputs": [
    {
     "data": {
      "text/plain": "Text(0.5, 1.0, 'Longest word chains')"
     },
     "execution_count": 39,
     "metadata": {},
     "output_type": "execute_result"
    }
   ],
   "source": [
    "sns.lmplot(x=\"length\", y=\"size\", data=df, fit_reg=False)\n",
    "plt.xlabel(\"Length of words\")\n",
    "plt.ylabel(\"Number of words\")\n",
    "plt.title(\"Longest word chains\")"
   ]
  },
  {
   "cell_type": "code",
   "execution_count": 33,
   "metadata": {},
   "outputs": [
    {
     "data": {
      "text/plain": "Text(0.5, 1.0, 'Size of biggest component in dictionary graph')"
     },
     "execution_count": 33,
     "metadata": {},
     "output_type": "execute_result"
    }
   ],
   "source": [
    "sns.lmplot(x=\"length\", y=\"nodes\", data=stats_df, fit_reg=False)\n",
    "plt.xlabel(\"Length of words\")\n",
    "plt.ylabel(\"Number of nodes\")\n",
    "plt.title(\"Number of nodes in dictionary graph\")\n",
    "sns.lmplot(x=\"length\", y=\"connected\", data=stats_df, fit_reg=False)\n",
    "plt.xlabel(\"Length of words\")\n",
    "plt.ylabel(\"Number of connected components\")\n",
    "plt.title(\"Number of connected components in dictionary graph\")\n",
    "sns.lmplot(x=\"length\", y=\"biggest\", data=stats_df, fit_reg=False)\n",
    "plt.xlabel(\"Length of words\")\n",
    "plt.ylabel(\"Size of biggest component\")\n",
    "plt.title(\"Size of biggest component in dictionary graph\")"
   ]
  }
 ],
 "metadata": {
  "kernelspec": {
   "display_name": "Python 3",
   "language": "python",
   "name": "python3"
  },
  "language_info": {
   "codemirror_mode": {
    "name": "ipython",
    "version": 3
   },
   "file_extension": ".py",
   "mimetype": "text/x-python",
   "name": "python",
   "nbconvert_exporter": "python",
   "pygments_lexer": "ipython3",
   "version": "3.10.7 (tags/v3.10.7:6cc6b13, Sep  5 2022, 14:08:36) [MSC v.1933 64 bit (AMD64)]"
  },
  "orig_nbformat": 4,
  "vscode": {
   "interpreter": {
    "hash": "a9ff5eb5a36b77e5156c3ce8aa0470190c35af1b827bae3b7e7c2407c5ae9103"
   }
  }
 },
 "nbformat": 4,
 "nbformat_minor": 2
}
